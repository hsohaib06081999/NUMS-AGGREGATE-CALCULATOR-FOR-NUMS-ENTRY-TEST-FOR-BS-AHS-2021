{
  "nbformat": 4,
  "nbformat_minor": 0,
  "metadata": {
    "colab": {
      "name": "Untitled0.ipynb NUMS AGGREGATE CALCULATOR",
      "provenance": [],
      "authorship_tag": "ABX9TyOkiu5J1urxN9n56H79cymb",
      "include_colab_link": true
    },
    "kernelspec": {
      "name": "python3",
      "display_name": "Python 3"
    },
    "language_info": {
      "name": "python"
    }
  },
  "cells": [
    {
      "cell_type": "markdown",
      "metadata": {
        "id": "view-in-github",
        "colab_type": "text"
      },
      "source": [
        "<a href=\"https://colab.research.google.com/github/hsohaib06081999/NUMS-AGGREGATE-CALCULATOR-FOR-NUMS-ENTRY-TEST-FOR-BS-AHS-2021/blob/main/Untitled0_ipynb_NUMS_AGGREGATE_CALCULATOR.ipynb\" target=\"_parent\"><img src=\"https://colab.research.google.com/assets/colab-badge.svg\" alt=\"Open In Colab\"/></a>"
      ]
    },
    {
      "cell_type": "code",
      "metadata": {
        "id": "ItYLL4CWNc6_"
      },
      "source": [
        "print(\"THIS PROGRAM WILL CALCULATE YOUR AGREGATE FOR NUMS ENTRY TEST FOR ALLIED HEALTH SCIENCES.\")\n",
        "print(\"  \")\n",
        "print(\"NUMS OFFICIAL AGGREGATE FOR ALLIED HEALTH SCIENCES\")\n",
        "print(\"<<<>>>\")\n",
        "print(\"MATRIC 10%\\nFSc 40%\\nNUMS ENTRY TEST 50%\")\n",
        "print(\"NOTE\\nYou Can Apply On The Basis Of NUMS ENTRY TEST FOR MBBS & BDS,N-MDCAT And NUMS ENTRY TEST FOR BS PROGRAMS.\")\n",
        "print(\"   \")\n",
        "print(\"<<<>>>\")\n",
        "print(\"Please Inter Required Infprmation Below: \")\n",
        "print(\"   \")\n",
        "n1 = float(input(\"Inter Your Obtained Metric Marks: \"))\n",
        "n2 = float(input(\"Inter Your Total Metric marks: \"))\n",
        "a = n1 / n2 * 100 \n",
        "print(a)\n",
        "n3 = float(input(\"Inter Your Obtained FSc Marks: \"))\n",
        "n4 = float(input(\"Inter Your Total Fsc Marks: \"))\n",
        "b = n3 / n4 * 100\n",
        "print(b)\n",
        "print(\"   \")\n",
        "print(\"N-MDCAT 2021\\nNUMS ENTRY TEST FOR MBBS AND BDS\\nNUMS ENTRY TEST FOR ALLIED HEALTH SCIENCES.\")\n",
        "print(\"<<<>>>\")\n",
        "m = input(\"KIndly Write Down The Name Of The Test You Have Taken: \")\n",
        "print(\"saved \" + m)\n",
        "n5 = float(input(\"Inter Your Obtained Marks: \"))\n",
        "n6 = float(input(\"Inter Your Total Morks: \"))\n",
        "l = n5 /n6 * 100\n",
        "print(l)\n",
        "print(\"   \")\n",
        "print(\"<<<>>>\")\n",
        "print(\"Your Agregate is:\")\n",
        "metric = a * 10 / 100\n",
        "fsc = b * 40 / 100\n",
        "entrytest = l * 50 / 100\n",
        "Sum = metric + fsc + entrytest\n",
        "print(Sum)"
      ],
      "execution_count": null,
      "outputs": []
    }
  ]
}